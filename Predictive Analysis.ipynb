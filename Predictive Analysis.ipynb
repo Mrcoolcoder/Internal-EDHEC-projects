{
 "cells": [
  {
   "cell_type": "markdown",
   "id": "0f7420c1-fc18-4c54-becc-daceaa9a51d4",
   "metadata": {},
   "source": [
    "# Assignment - 1\n",
    "Submitted by : LUTHRA Abhishek (86828)"
   ]
  },
  {
   "cell_type": "code",
   "execution_count": 1,
   "id": "77256343-8abf-4add-9e99-3a65e80c038f",
   "metadata": {},
   "outputs": [],
   "source": [
    "import pandas as pd\n",
    "import numpy as np\n",
    "import seaborn as sns\n",
    "import matplotlib.pyplot as plt"
   ]
  },
  {
   "cell_type": "markdown",
   "id": "f8edcb2a-0cf9-4df5-b6ab-d58186a93b7b",
   "metadata": {
    "tags": []
   },
   "source": [
    "## Data Preparation and a first Analysis"
   ]
  },
  {
   "cell_type": "raw",
   "id": "2340aac8-6d0a-4de8-a15c-b2a28402882b",
   "metadata": {
    "tags": []
   },
   "source": [
    "Import the .csv file \"hotels.csv\" as a dataframe.\n",
    "\n",
    "Rescale the variable \"rating\" to the interval [0,1] using MinmaxScaler.\n",
    "Call the rescaled variable \"rating_scale\".\n",
    "\n",
    "What is the median of \"rating_scale\"?"
   ]
  },
  {
   "cell_type": "code",
   "execution_count": 2,
   "id": "0eb62661-d49d-42bf-b1ec-7ae94b7ad3ce",
   "metadata": {
    "tags": []
   },
   "outputs": [
    {
     "data": {
      "text/html": [
       "<div>\n",
       "<style scoped>\n",
       "    .dataframe tbody tr th:only-of-type {\n",
       "        vertical-align: middle;\n",
       "    }\n",
       "\n",
       "    .dataframe tbody tr th {\n",
       "        vertical-align: top;\n",
       "    }\n",
       "\n",
       "    .dataframe thead th {\n",
       "        text-align: right;\n",
       "    }\n",
       "</style>\n",
       "<table border=\"1\" class=\"dataframe\">\n",
       "  <thead>\n",
       "    <tr style=\"text-align: right;\">\n",
       "      <th></th>\n",
       "      <th>price</th>\n",
       "      <th>distance</th>\n",
       "      <th>stars</th>\n",
       "      <th>rating</th>\n",
       "    </tr>\n",
       "  </thead>\n",
       "  <tbody>\n",
       "    <tr>\n",
       "      <th>0</th>\n",
       "      <td>81</td>\n",
       "      <td>1.7</td>\n",
       "      <td>four</td>\n",
       "      <td>3.9</td>\n",
       "    </tr>\n",
       "    <tr>\n",
       "      <th>1</th>\n",
       "      <td>85</td>\n",
       "      <td>1.4</td>\n",
       "      <td>four</td>\n",
       "      <td>3.7</td>\n",
       "    </tr>\n",
       "    <tr>\n",
       "      <th>2</th>\n",
       "      <td>83</td>\n",
       "      <td>1.7</td>\n",
       "      <td>three</td>\n",
       "      <td>4.0</td>\n",
       "    </tr>\n",
       "    <tr>\n",
       "      <th>3</th>\n",
       "      <td>82</td>\n",
       "      <td>1.2</td>\n",
       "      <td>four</td>\n",
       "      <td>3.9</td>\n",
       "    </tr>\n",
       "    <tr>\n",
       "      <th>4</th>\n",
       "      <td>103</td>\n",
       "      <td>0.9</td>\n",
       "      <td>four</td>\n",
       "      <td>3.9</td>\n",
       "    </tr>\n",
       "  </tbody>\n",
       "</table>\n",
       "</div>"
      ],
      "text/plain": [
       "   price  distance  stars  rating\n",
       "0     81       1.7   four     3.9\n",
       "1     85       1.4   four     3.7\n",
       "2     83       1.7  three     4.0\n",
       "3     82       1.2   four     3.9\n",
       "4    103       0.9   four     3.9"
      ]
     },
     "execution_count": 2,
     "metadata": {},
     "output_type": "execute_result"
    }
   ],
   "source": [
    "hotels = pd.read_csv('hotels.csv')\n",
    "hotels.head()"
   ]
  },
  {
   "cell_type": "code",
   "execution_count": 3,
   "id": "ccd4ab71-fc82-4e79-82cb-0b857ea2534e",
   "metadata": {},
   "outputs": [
    {
     "data": {
      "text/html": [
       "<div>\n",
       "<style scoped>\n",
       "    .dataframe tbody tr th:only-of-type {\n",
       "        vertical-align: middle;\n",
       "    }\n",
       "\n",
       "    .dataframe tbody tr th {\n",
       "        vertical-align: top;\n",
       "    }\n",
       "\n",
       "    .dataframe thead th {\n",
       "        text-align: right;\n",
       "    }\n",
       "</style>\n",
       "<table border=\"1\" class=\"dataframe\">\n",
       "  <thead>\n",
       "    <tr style=\"text-align: right;\">\n",
       "      <th></th>\n",
       "      <th>price</th>\n",
       "      <th>distance</th>\n",
       "      <th>stars</th>\n",
       "      <th>rating</th>\n",
       "      <th>rating_scale</th>\n",
       "    </tr>\n",
       "  </thead>\n",
       "  <tbody>\n",
       "    <tr>\n",
       "      <th>0</th>\n",
       "      <td>81</td>\n",
       "      <td>1.7</td>\n",
       "      <td>four</td>\n",
       "      <td>3.9</td>\n",
       "      <td>0.743590</td>\n",
       "    </tr>\n",
       "    <tr>\n",
       "      <th>1</th>\n",
       "      <td>85</td>\n",
       "      <td>1.4</td>\n",
       "      <td>four</td>\n",
       "      <td>3.7</td>\n",
       "      <td>0.692308</td>\n",
       "    </tr>\n",
       "    <tr>\n",
       "      <th>2</th>\n",
       "      <td>83</td>\n",
       "      <td>1.7</td>\n",
       "      <td>three</td>\n",
       "      <td>4.0</td>\n",
       "      <td>0.769231</td>\n",
       "    </tr>\n",
       "    <tr>\n",
       "      <th>3</th>\n",
       "      <td>82</td>\n",
       "      <td>1.2</td>\n",
       "      <td>four</td>\n",
       "      <td>3.9</td>\n",
       "      <td>0.743590</td>\n",
       "    </tr>\n",
       "    <tr>\n",
       "      <th>4</th>\n",
       "      <td>103</td>\n",
       "      <td>0.9</td>\n",
       "      <td>four</td>\n",
       "      <td>3.9</td>\n",
       "      <td>0.743590</td>\n",
       "    </tr>\n",
       "  </tbody>\n",
       "</table>\n",
       "</div>"
      ],
      "text/plain": [
       "   price  distance  stars  rating  rating_scale\n",
       "0     81       1.7   four     3.9      0.743590\n",
       "1     85       1.4   four     3.7      0.692308\n",
       "2     83       1.7  three     4.0      0.769231\n",
       "3     82       1.2   four     3.9      0.743590\n",
       "4    103       0.9   four     3.9      0.743590"
      ]
     },
     "execution_count": 3,
     "metadata": {},
     "output_type": "execute_result"
    }
   ],
   "source": [
    "# Import MinMaxScaler\n",
    "from sklearn.preprocessing import MinMaxScaler\n",
    "\n",
    "# Initialise the MinMaxScaler \n",
    "scaler = MinMaxScaler()\n",
    "\n",
    "# To scale data \n",
    "scaler.fit(hotels['rating'].values.reshape(-1,1)) \n",
    "hotels['rating_scale']=scaler.transform(hotels['rating'].values.reshape(-1,1))\n",
    "hotels.head()"
   ]
  },
  {
   "cell_type": "code",
   "execution_count": 4,
   "id": "03cedb8e-95dd-479c-a004-c21bfc16be49",
   "metadata": {},
   "outputs": [
    {
     "name": "stdout",
     "output_type": "stream",
     "text": [
      "The Median of Rating Scale is : 0.795\n"
     ]
    }
   ],
   "source": [
    "rating_scale_med = np.median(hotels['rating_scale'])\n",
    "\n",
    "print(f'The Median of Rating Scale is : {rating_scale_med:.3f}')"
   ]
  },
  {
   "cell_type": "raw",
   "id": "001b2523-2afb-4246-b984-ebd541153ef7",
   "metadata": {
    "tags": []
   },
   "source": [
    "Use an outlier detection rule for the \"price\" variable. \n",
    "What is the percentage of outliers you detected?\n",
    "Remove these detected outliers from the data frame."
   ]
  },
  {
   "cell_type": "code",
   "execution_count": 5,
   "id": "cf9988aa-a921-4284-a2f0-99240bf3cfd0",
   "metadata": {},
   "outputs": [
    {
     "name": "stdout",
     "output_type": "stream",
     "text": [
      "<class 'pandas.core.frame.DataFrame'>\n",
      "RangeIndex: 235 entries, 0 to 234\n",
      "Data columns (total 5 columns):\n",
      " #   Column        Non-Null Count  Dtype  \n",
      "---  ------        --------------  -----  \n",
      " 0   price         235 non-null    int64  \n",
      " 1   distance      235 non-null    float64\n",
      " 2   stars         235 non-null    object \n",
      " 3   rating        235 non-null    float64\n",
      " 4   rating_scale  235 non-null    float64\n",
      "dtypes: float64(3), int64(1), object(1)\n",
      "memory usage: 9.3+ KB\n"
     ]
    }
   ],
   "source": [
    "hotels.info()"
   ]
  },
  {
   "cell_type": "code",
   "execution_count": 6,
   "id": "c61821b8-47d0-48f6-8e7f-13d99b6bde40",
   "metadata": {
    "tags": []
   },
   "outputs": [
    {
     "name": "stdout",
     "output_type": "stream",
     "text": [
      " The percentage of outliers detected is: 2.98%\n"
     ]
    }
   ],
   "source": [
    "# Dropping the outliers for price variable using outlier detection rule\n",
    "\n",
    "m=hotels['price'].mean()\n",
    "s=hotels['price'].std()\n",
    "upper_limit= m + 3 * s\n",
    "lower_limit = m - 3 * s\n",
    "\n",
    "hotels_new = hotels[(hotels['price'] < upper_limit) & (hotels['price'] > lower_limit)]\n",
    "\n",
    "hotel_price_count = hotels['price'].count()\n",
    "hotel_new_price_count = hotels_new['price'].count()\n",
    "\n",
    "percentage_outliers = ((hotel_price_count-hotel_new_price_count)/hotel_price_count)*100\n",
    "\n",
    "print(f' The percentage of outliers detected is: {percentage_outliers:.2f}%')"
   ]
  },
  {
   "cell_type": "markdown",
   "id": "5c73c74c-201c-4f60-bbb3-b10c07a43e74",
   "metadata": {},
   "source": [
    "#### We are removing the detected outliers from the original data frame hotels by making a new dataframe-  hotels_new"
   ]
  },
  {
   "cell_type": "code",
   "execution_count": 7,
   "id": "d61c3613-cf03-4bc8-812c-98d99bd73759",
   "metadata": {
    "tags": []
   },
   "outputs": [
    {
     "name": "stdout",
     "output_type": "stream",
     "text": [
      "<class 'pandas.core.frame.DataFrame'>\n",
      "RangeIndex: 235 entries, 0 to 234\n",
      "Data columns (total 5 columns):\n",
      " #   Column        Non-Null Count  Dtype  \n",
      "---  ------        --------------  -----  \n",
      " 0   price         235 non-null    int64  \n",
      " 1   distance      235 non-null    float64\n",
      " 2   stars         235 non-null    object \n",
      " 3   rating        235 non-null    float64\n",
      " 4   rating_scale  235 non-null    float64\n",
      "dtypes: float64(3), int64(1), object(1)\n",
      "memory usage: 9.3+ KB\n",
      "None\n",
      "<class 'pandas.core.frame.DataFrame'>\n",
      "Int64Index: 228 entries, 0 to 234\n",
      "Data columns (total 5 columns):\n",
      " #   Column        Non-Null Count  Dtype  \n",
      "---  ------        --------------  -----  \n",
      " 0   price         228 non-null    int64  \n",
      " 1   distance      228 non-null    float64\n",
      " 2   stars         228 non-null    object \n",
      " 3   rating        228 non-null    float64\n",
      " 4   rating_scale  228 non-null    float64\n",
      "dtypes: float64(3), int64(1), object(1)\n",
      "memory usage: 10.7+ KB\n",
      "None\n"
     ]
    }
   ],
   "source": [
    "print(hotels.info())\n",
    "print(hotels_new.info())"
   ]
  },
  {
   "cell_type": "markdown",
   "id": "dc558936-d1df-4643-9562-f93d6e6fb050",
   "metadata": {
    "tags": []
   },
   "source": [
    "Make a scatter plot of the price versus the scaled rating."
   ]
  },
  {
   "cell_type": "code",
   "execution_count": 8,
   "id": "ce82b2f7-fe66-4abf-b792-70c33b026d43",
   "metadata": {
    "tags": []
   },
   "outputs": [
    {
     "data": {
      "image/png": "[encoded data removed]",
      "text/plain": [
       "<Figure size 640x480 with 1 Axes>"
      ]
     },
     "metadata": {},
     "output_type": "display_data"
    }
   ],
   "source": [
    "sns.scatterplot(data = hotels, x = 'rating_scale', y = 'price', color = 'r').set(title='Price v/s Scaled rating')\n",
    "sns.scatterplot(data = hotels_new, x = 'rating_scale', y = 'price', color = 'b').set(title='Price v/s Scaled rating')\n",
    "plt.show()\n",
    "#red dots here represents price outliers "
   ]
  },
  {
   "cell_type": "raw",
   "id": "9e128514-0cac-4120-bd42-8f4a1fd560b2",
   "metadata": {
    "tags": []
   },
   "source": [
    "Compute the correlation matrix of the data frame with variables price, distance, rating, and scaled rating.\n",
    "(The distance is the distance of the hotel to the city center)\n",
    "Discuss briefly."
   ]
  },
  {
   "cell_type": "code",
   "execution_count": 9,
   "id": "f2457fbc-8015-47bd-9a7d-3fb27a0cc093",
   "metadata": {},
   "outputs": [
    {
     "data": {
      "image/png": "[encoded data removed]",
      "text/plain": [
       "<Figure size 640x480 with 2 Axes>"
      ]
     },
     "metadata": {},
     "output_type": "display_data"
    }
   ],
   "source": [
    "# Find correlation \n",
    "cor_matrix=hotels_new.corr()\n",
    "\n",
    "sns.heatmap(cor_matrix, annot = True, cmap=\"YlGnBu\")\n",
    "plt.show()"
   ]
  },
  {
   "cell_type": "markdown",
   "id": "a8e9e4e8-a792-4ade-a3a9-956a3d7e779c",
   "metadata": {},
   "source": [
    "Here, the relationship between price and ratings is both postive and moderate correlated (+0.53). \n",
    "This can be explained by means that more price spent is associated with hotels having higher and better ratings. For instance, hotels having 5 stars are expensive than three stars hotels.\n",
    "\n",
    "On the other hand, relationship between price and distance is between weak to moderate and negatively correlated (-0.46). This could mean that more price spent is associated with less distance as hotels near to the city centre are generally expensive than those farther away. Also, the relationship between distance and ratings is weak and negatively correlated (-0.29)."
   ]
  },
  {
   "cell_type": "markdown",
   "id": "ab867435-8faa-4cfe-9e27-9cfeab064474",
   "metadata": {
    "tags": []
   },
   "source": [
    "### Discuss briefly :"
   ]
  },
  {
   "cell_type": "raw",
   "id": "44bb43b5-23df-4e42-ac3d-90609fba33e8",
   "metadata": {
    "tags": []
   },
   "source": [
    "Create a variable \"stars_high\" that is equal to one if the hotel has four or five stars, and zero otherwise.\n",
    "Add this variable to the dataframe."
   ]
  },
  {
   "cell_type": "code",
   "execution_count": 10,
   "id": "f0001b71-026a-491b-b39b-0bc5b73a5946",
   "metadata": {
    "tags": []
   },
   "outputs": [],
   "source": [
    "#We will create a list of the conditions and corresponding values that we want to assign for each condition, that is, for three stars hotel we use 0 and for four/ five stars we use 1\n",
    "\n",
    "conditions =[\n",
    "    (hotels_new['stars'] == 'three'),\n",
    "    (hotels_new['stars'] == 'four') | (hotels_new['stars'] == 'five')\n",
    "    ]\n",
    "\n",
    "values = [0, 1]"
   ]
  },
  {
   "cell_type": "code",
   "execution_count": 11,
   "id": "37c8940f-226b-4f14-b616-892bbf6cb865",
   "metadata": {
    "tags": []
   },
   "outputs": [
    {
     "name": "stderr",
     "output_type": "stream",
     "text": [
      "/var/folders/cd/s6nmmb59021f5gz_cvdrl87w0000gn/T/ipykernel_66703/2036442161.py:1: SettingWithCopyWarning: \n",
      "A value is trying to be set on a copy of a slice from a DataFrame.\n",
      "Try using .loc[row_indexer,col_indexer] = value instead\n",
      "\n",
      "See the caveats in the documentation: https://pandas.pydata.org/pandas-docs/stable/user_guide/indexing.html#returning-a-view-versus-a-copy\n",
      "  hotels_new['stars_high'] = np.select(conditions, values)\n"
     ]
    },
    {
     "data": {
      "text/html": [
       "<div>\n",
       "<style scoped>\n",
       "    .dataframe tbody tr th:only-of-type {\n",
       "        vertical-align: middle;\n",
       "    }\n",
       "\n",
       "    .dataframe tbody tr th {\n",
       "        vertical-align: top;\n",
       "    }\n",
       "\n",
       "    .dataframe thead th {\n",
       "        text-align: right;\n",
       "    }\n",
       "</style>\n",
       "<table border=\"1\" class=\"dataframe\">\n",
       "  <thead>\n",
       "    <tr style=\"text-align: right;\">\n",
       "      <th></th>\n",
       "      <th>price</th>\n",
       "      <th>distance</th>\n",
       "      <th>stars</th>\n",
       "      <th>rating</th>\n",
       "      <th>rating_scale</th>\n",
       "      <th>stars_high</th>\n",
       "    </tr>\n",
       "  </thead>\n",
       "  <tbody>\n",
       "    <tr>\n",
       "      <th>0</th>\n",
       "      <td>81</td>\n",
       "      <td>1.7</td>\n",
       "      <td>four</td>\n",
       "      <td>3.9</td>\n",
       "      <td>0.743590</td>\n",
       "      <td>1</td>\n",
       "    </tr>\n",
       "    <tr>\n",
       "      <th>1</th>\n",
       "      <td>85</td>\n",
       "      <td>1.4</td>\n",
       "      <td>four</td>\n",
       "      <td>3.7</td>\n",
       "      <td>0.692308</td>\n",
       "      <td>1</td>\n",
       "    </tr>\n",
       "    <tr>\n",
       "      <th>2</th>\n",
       "      <td>83</td>\n",
       "      <td>1.7</td>\n",
       "      <td>three</td>\n",
       "      <td>4.0</td>\n",
       "      <td>0.769231</td>\n",
       "      <td>0</td>\n",
       "    </tr>\n",
       "    <tr>\n",
       "      <th>3</th>\n",
       "      <td>82</td>\n",
       "      <td>1.2</td>\n",
       "      <td>four</td>\n",
       "      <td>3.9</td>\n",
       "      <td>0.743590</td>\n",
       "      <td>1</td>\n",
       "    </tr>\n",
       "    <tr>\n",
       "      <th>4</th>\n",
       "      <td>103</td>\n",
       "      <td>0.9</td>\n",
       "      <td>four</td>\n",
       "      <td>3.9</td>\n",
       "      <td>0.743590</td>\n",
       "      <td>1</td>\n",
       "    </tr>\n",
       "  </tbody>\n",
       "</table>\n",
       "</div>"
      ],
      "text/plain": [
       "   price  distance  stars  rating  rating_scale  stars_high\n",
       "0     81       1.7   four     3.9      0.743590           1\n",
       "1     85       1.4   four     3.7      0.692308           1\n",
       "2     83       1.7  three     4.0      0.769231           0\n",
       "3     82       1.2   four     3.9      0.743590           1\n",
       "4    103       0.9   four     3.9      0.743590           1"
      ]
     },
     "execution_count": 11,
     "metadata": {},
     "output_type": "execute_result"
    }
   ],
   "source": [
    "hotels_new['stars_high'] = np.select(conditions, values)\n",
    "\n",
    "hotels_new.head()"
   ]
  },
  {
   "cell_type": "raw",
   "id": "b04b9c93-839f-4e7e-9c16-b29696808c38",
   "metadata": {
    "tags": []
   },
   "source": [
    "Compare the average price of  hotels with 4 or 5 stars and the average price of hotels with 3 stars. Is the difference in average price significant?"
   ]
  },
  {
   "cell_type": "code",
   "execution_count": 12,
   "id": "e538fc0a-f8d6-4680-8d45-556a595be004",
   "metadata": {},
   "outputs": [
    {
     "name": "stdout",
     "output_type": "stream",
     "text": [
      "Average price of the Hotel: 118.22\n",
      "Average price for a 3 star Hotel: price    88.3\n",
      "dtype: float64\n",
      "Average price for a 4 star Hotel: price    122.51\n",
      "dtype: float64\n",
      "Average price for a 5 star Hotel: price    234.56\n",
      "dtype: float64\n"
     ]
    },
    {
     "name": "stderr",
     "output_type": "stream",
     "text": [
      "/Users/absluthra/opt/anaconda3/envs/pypr/lib/python3.9/site-packages/numpy/core/fromnumeric.py:3438: FutureWarning: In a future version, DataFrame.mean(axis=None) will return a scalar mean over the entire DataFrame. To retain the old behavior, use 'frame.mean(axis=0)' or just 'frame.mean()'\n",
      "  return mean(axis=axis, dtype=dtype, out=out, **kwargs)\n",
      "/Users/absluthra/opt/anaconda3/envs/pypr/lib/python3.9/site-packages/numpy/core/fromnumeric.py:3438: FutureWarning: Dropping of nuisance columns in DataFrame reductions (with 'numeric_only=None') is deprecated; in a future version this will raise TypeError.  Select only valid columns before calling the reduction.\n",
      "  return mean(axis=axis, dtype=dtype, out=out, **kwargs)\n"
     ]
    }
   ],
   "source": [
    "hotels_price = hotels_new[['price', 'stars']]\n",
    "hotels_price.head()\n",
    "\n",
    "price3 =  hotels_price.loc[hotels_price['stars']=='three']\n",
    "price4 =  hotels_price.loc[hotels_price['stars']=='four']\n",
    "price5 =  hotels_price.loc[hotels_price['stars']=='five']\n",
    "\n",
    "\n",
    "print('Average price of the Hotel: ' + str(round(np.mean(hotels_new['price']),2)))\n",
    "print('Average price for a 3 star Hotel: ' + str(round(np.mean(price3),2)))\n",
    "print('Average price for a 4 star Hotel: ' + str(round(np.mean(price4),2)))\n",
    "print('Average price for a 5 star Hotel: ' + str(round(np.mean(price5),2)))"
   ]
  },
  {
   "cell_type": "markdown",
   "id": "70fbf65d-a1d1-402b-8f6f-13d41a77733d",
   "metadata": {},
   "source": [
    "-It is clearly visible that the difference in average prices between three star and five stars hotels is highly significant (88 vs 235 resp). The similar situation can be observe when compared the average prices between four star hotel with five stars (123 vs 235).\n",
    "\n",
    "-When we compare the difference in average price of the hotels to the five stars hotels, the difference is highly significant(118 vs 235). However, difference in average price between average hotels price compared to the four stars hotel is not significant (118 vs 123)\n",
    "\n",
    "-Moreover, the average price of the three star hotels is way lesser than the average price of the hotels(88 vs 118).\n"
   ]
  },
  {
   "cell_type": "markdown",
   "id": "21b4f5dc-d148-4f69-a324-24129c958fc3",
   "metadata": {
    "tags": []
   },
   "source": [
    "## Predictive Models"
   ]
  },
  {
   "cell_type": "raw",
   "id": "aa9e9da1-d4ec-4e26-a634-145324d677e0",
   "metadata": {
    "tags": []
   },
   "source": [
    "Estimate a linear regression model where you want to predict \"price\" using \"distance\", \"stars_high\" and \"rating_scale.\"\n",
    "(i) Interpret the coefficients of these 3 variables. \n",
    "(ii) Are these coefficients significantly different from zero?\n",
    "(iii) Interpret the value of the R-squared statistic."
   ]
  },
  {
   "cell_type": "markdown",
   "id": "05d05b95-ade5-4e29-b3af-f2a70c0faa1d",
   "metadata": {
    "tags": []
   },
   "source": [
    "### Using Linear Regression"
   ]
  },
  {
   "cell_type": "code",
   "execution_count": 18,
   "id": "f10e580b-d10d-40e9-8b0f-33d7c9f81a5d",
   "metadata": {
    "tags": []
   },
   "outputs": [
    {
     "data": {
      "text/plain": [
       "Intercept       -15.763887\n",
       "distance        -14.238753\n",
       "stars_high       22.855329\n",
       "rating_scale    176.647278\n",
       "dtype: float64"
      ]
     },
     "execution_count": 18,
     "metadata": {},
     "output_type": "execute_result"
    }
   ],
   "source": [
    "import statsmodels.formula.api as smf\n",
    "import statsmodels.api as sm\n",
    "\n",
    "#model = smf.ols(formula='price~distance+stars_high+rating_scale', data=hotels_new)\n",
    "\n",
    "result = model.fit()\n",
    "result.summary()\n",
    "result.params"
   ]
  },
  {
   "cell_type": "markdown",
   "id": "d2eab90e-c9e4-4e9e-b08a-998e38569a14",
   "metadata": {},
   "source": [
    "### Intrepretations:\n",
    "\n",
    "i)\n",
    "-If we decrease the distance by one unit, then Prices will go up with 14 units.\n",
    "\n",
    "-If we increase stars rating by one unit, then Price will go up with 23 units.\n",
    "\n",
    "-If we increase rating scale  by one unit, then Price will go up with 177 units.\n",
    "\n",
    "\n",
    "ii)\n",
    "All the variables - distance, star_high and rating scale are significant variables (P-value<0.05),Thus these variables are signifiantly different from zero. \n",
    "\n",
    "iii) - R-squared=0.419: about 42% of the variability in prices is explained by distance, stars_high and rating_scale [This is the in-sample R-squared]. The $R^{2}$ of 22% is therefore considered average (and not a larger percentage)"
   ]
  },
  {
   "cell_type": "raw",
   "id": "8830da33-5ebc-4303-89cb-d859967a2484",
   "metadata": {
    "tags": []
   },
   "source": [
    "The R-squared value computed in the previous question is \"in-sample\".\n",
    "Split your sample randomy into 80% training and 20% test.\n",
    "Use the training data to estimate the model, and make a prediction for the test data.\n",
    "Compute now the \"out-of-sample\" R-squared."
   ]
  },
  {
   "cell_type": "code",
   "execution_count": 174,
   "id": "d1156513-db0c-471f-9259-ecb6e8490637",
   "metadata": {},
   "outputs": [],
   "source": [
    " #Now we put focus on prediction!\n",
    "# Predictor variables or Features\n",
    "\n",
    "X= hotels_new[['distance', 'stars_high', 'rating_scale']] \n",
    "\n",
    "# Dependent or Target variable\n",
    "y = hotels_new.price "
   ]
  },
  {
   "cell_type": "code",
   "execution_count": 175,
   "id": "2ddbbf58-69a9-4199-bd1f-3243538a1c3c",
   "metadata": {
    "tags": []
   },
   "outputs": [],
   "source": [
    "# We want to construct out-of-sample performance measures.\n",
    "# We randomly split in training data (used to estimate the model) \n",
    "#          and test data (used for testing the model)\n",
    "\n",
    "# Import train_test_split function from \n",
    "from sklearn.model_selection import train_test_split\n",
    " \n",
    "# Split X and y into training and testing sets\n",
    "X_train, X_test, y_train, y_test = train_test_split(X,y,test_size=0.2,random_state=10)"
   ]
  },
  {
   "cell_type": "code",
   "execution_count": 176,
   "id": "90fb0975-73b0-41f0-9a9f-8f2fdb02038c",
   "metadata": {},
   "outputs": [],
   "source": [
    "from sklearn.linear_model import LinearRegression\n",
    " \n",
    "# Create linear regression model\n",
    "lin_reg = LinearRegression()\n",
    " \n",
    "# Fit the linear regression model\n",
    "lin_reg.fit(X_train, y_train)\n",
    " \n",
    "# Predict the values given test set\n",
    "predictions = lin_reg.predict(X_test)\n",
    "#predictions"
   ]
  },
  {
   "cell_type": "code",
   "execution_count": 177,
   "id": "e74c514d-fcd9-4fef-8aa1-6e87f93d2e5d",
   "metadata": {},
   "outputs": [
    {
     "name": "stdout",
     "output_type": "stream",
     "text": [
      "R2-Square: 0.451\n"
     ]
    }
   ],
   "source": [
    "# Import the required libraries\n",
    "\n",
    "from sklearn.metrics import r2_score\n",
    "#from sklearn.metrics import mean_absolute_error as mae\n",
    "\n",
    "# Evaluate R2-square (this is an out-of-sample R-squared)\n",
    "print(\"R2-Square:\",(round(r2_score(y_test, predictions),3)))\n"
   ]
  },
  {
   "cell_type": "markdown",
   "id": "15c4e1ae-597d-4cc5-9518-08dc402a2902",
   "metadata": {},
   "source": [
    "The $R^{2}$ of out-of-sample is 45.1 %, comparable to our previous in-sample R-squared value of 42%."
   ]
  },
  {
   "cell_type": "raw",
   "id": "0f987d21-528c-4d41-84a3-32452d6fae48",
   "metadata": {
    "tags": []
   },
   "source": [
    "Use logistic regression to predict whether the number of stars given to a hotel is high (4 or 5) or low (3).\n",
    "Use as predictor variables  \"distance\" and price\".\n",
    "Compute the percentage of correctly classiifed observations on a test set."
   ]
  },
  {
   "cell_type": "markdown",
   "id": "97cda4e0-a92b-41ed-87ca-0252b8c302b5",
   "metadata": {},
   "source": [
    "## Using Logistic Regression"
   ]
  },
  {
   "cell_type": "code",
   "execution_count": 178,
   "id": "312e6cc0-0217-4eb0-b5de-ca4156f37e70",
   "metadata": {
    "tags": []
   },
   "outputs": [
    {
     "name": "stdout",
     "output_type": "stream",
     "text": [
      "Accuracy: 0.783\n",
      "Error Rate: 0.217\n"
     ]
    }
   ],
   "source": [
    "# split dataset in two parts: feature set and target label \n",
    "feature_set = ['price', 'distance']\n",
    "features = hotels_new[feature_set] \n",
    "target = hotels_new.stars_high\n",
    "\n",
    "# partition data into training and testing set \n",
    "from sklearn.model_selection import train_test_split\n",
    "\n",
    "feature_train, feature_test, target_train, target_test = train_test_split(features, target, test_size=0.2, random_state=10)\n",
    "\n",
    "# import logistic regression scikit-learn model\n",
    "from sklearn.linear_model import LogisticRegression\n",
    "from sklearn.metrics import accuracy_score # for performance evaluation\n",
    " \n",
    "# instantiate the model\n",
    "logreg = LogisticRegression()\n",
    " \n",
    "# fit the model with data\n",
    "logreg.fit(feature_train,target_train)\n",
    " \n",
    "# Forecast the target variable for given test dataset\n",
    "predictions = logreg.predict(feature_test)\n",
    "\n",
    "# Assess model performance using accuracy measure\n",
    "result=accuracy_score(target_test, predictions)\n",
    "print(\"Accuracy:\",'{:.3f}'.format(result))\n",
    "\n",
    "#The Error rate is the percentage of misclassified observations (in the test sample)\n",
    "ErrorRate=1-result\n",
    "#print(\"Error Rate:\",'{:.3f}'.format(ErrorRate))\n",
    "\n",
    "print(f'Error Rate: {ErrorRate:.3f}')"
   ]
  },
  {
   "cell_type": "markdown",
   "id": "c25a3a8a-456c-45e2-a1db-839e0d168a98",
   "metadata": {},
   "source": [
    "#### If only using the price"
   ]
  },
  {
   "cell_type": "code",
   "execution_count": 179,
   "id": "4da758d5-4242-4850-9871-9dc5054a1d04",
   "metadata": {},
   "outputs": [
    {
     "name": "stdout",
     "output_type": "stream",
     "text": [
      "Accuracy: 0.783\n",
      "Error Rate: 0.217\n"
     ]
    }
   ],
   "source": [
    "# split dataset in two parts: feature set and target label \n",
    "feature_set = ['price']\n",
    "features = hotels_new[feature_set] \n",
    "target = hotels_new.stars_high\n",
    "\n",
    "# partition data into training and testing set \n",
    "from sklearn.model_selection import train_test_split\n",
    "\n",
    "feature_train, feature_test, target_train, target_test = train_test_split(features, target, test_size=0.2, random_state=10)\n",
    "\n",
    "# import logistic regression scikit-learn model\n",
    "from sklearn.linear_model import LogisticRegression\n",
    "from sklearn.metrics import accuracy_score # for performance evaluation\n",
    " \n",
    "# instantiate the model\n",
    "logreg = LogisticRegression()\n",
    " \n",
    "# fit the model with data\n",
    "logreg.fit(feature_train,target_train)\n",
    " \n",
    "# Forecast the target variable for given test dataset\n",
    "predictions = logreg.predict(feature_test)\n",
    "\n",
    "# Assess model performance using accuracy measure\n",
    "result=accuracy_score(target_test, predictions)\n",
    "print(\"Accuracy:\",'{:.3f}'.format(result))\n",
    "\n",
    "#The Error rate is the percentage of misclassified observations (in the test sample)\n",
    "ErrorRate=1-result\n",
    "#print(\"Error Rate:\",'{:.3f}'.format(ErrorRate))\n",
    "\n",
    "print(f'Error Rate: {ErrorRate:.3f}')\n"
   ]
  },
  {
   "cell_type": "markdown",
   "id": "e204f543-e867-47ae-8b47-a51e6d411b1d",
   "metadata": {},
   "source": [
    "#### If only using the distance"
   ]
  },
  {
   "cell_type": "code",
   "execution_count": 180,
   "id": "c474dcb5-ec98-4f78-baf7-52d6bd511f92",
   "metadata": {},
   "outputs": [
    {
     "name": "stdout",
     "output_type": "stream",
     "text": [
      "Accuracy: 0.804\n",
      "Error Rate: 0.196\n"
     ]
    }
   ],
   "source": [
    "# split dataset in two parts: feature set and target label \n",
    "feature_set = ['distance']\n",
    "features = hotels_new[feature_set] \n",
    "target = hotels_new.stars_high\n",
    "\n",
    "# partition data into training and testing set \n",
    "from sklearn.model_selection import train_test_split\n",
    "\n",
    "feature_train, feature_test, target_train, target_test = train_test_split(features, target, test_size=0.2, random_state=10)\n",
    "\n",
    "# import logistic regression scikit-learn model\n",
    "from sklearn.linear_model import LogisticRegression\n",
    "from sklearn.metrics import accuracy_score # for performance evaluation\n",
    " \n",
    "# instantiate the model\n",
    "logreg = LogisticRegression()\n",
    " \n",
    "# fit the model with data\n",
    "logreg.fit(feature_train,target_train)\n",
    " \n",
    "# Forecast the target variable for given test dataset\n",
    "predictions = logreg.predict(feature_test)\n",
    "\n",
    "# Assess model performance using accuracy measure\n",
    "result=accuracy_score(target_test, predictions)\n",
    "print(\"Accuracy:\",'{:.3f}'.format(result))\n",
    "\n",
    "#The Error rate is the percentage of misclassified observations (in the test sample)\n",
    "ErrorRate=1-result\n",
    "#print(\"Error Rate:\",'{:.3f}'.format(ErrorRate))\n",
    "\n",
    "print(f'Error Rate: {ErrorRate:.3f}')\n"
   ]
  },
  {
   "cell_type": "markdown",
   "id": "be6e4400-4dd1-4df6-90e0-7ebd20764770",
   "metadata": {},
   "source": [
    "How is this percentage changing if you only use \"distance\", or only \"price\" as a predictor?\n",
    "\n"
   ]
  },
  {
   "cell_type": "markdown",
   "id": "c6bd037b-9070-4e61-89f2-04e459892b1d",
   "metadata": {},
   "source": [
    "The Accuracy of 78% is provided by the model when we use both the distance and price.\n",
    "Moreover, we could see that the accuracy remained the same (78%) when we only use price to predict the stars_high, and it further remained on similar levels (80%) when we only use distance instead of price.\n",
    "\n",
    "\n",
    "Thus, we can conclude that accuracy of 78-80% is achieved either we keep both the price and distance or we use price only, or distance only."
   ]
  }
 ],
 "metadata": {
  "kernelspec": {
   "display_name": "Python 3 (ipykernel)",
   "language": "python",
   "name": "python3"
  },
  "language_info": {
   "codemirror_mode": {
    "name": "ipython",
    "version": 3
   },
   "file_extension": ".py",
   "mimetype": "text/x-python",
   "name": "python",
   "nbconvert_exporter": "python",
   "pygments_lexer": "ipython3",
   "version": "3.9.13"
  }
 },
 "nbformat": 4,
 "nbformat_minor": 5
}
